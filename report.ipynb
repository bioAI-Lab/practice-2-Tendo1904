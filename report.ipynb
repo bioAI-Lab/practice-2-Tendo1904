{
 "cells": [
  {
   "cell_type": "code",
   "execution_count": 2,
   "id": "372b0b76",
   "metadata": {},
   "outputs": [],
   "source": [
    "from pymatgen.core.structure import Structure, Lattice, Molecule\n",
    "from mp_api.client import MPRester\n",
    "import dotenv\n",
    "import os"
   ]
  },
  {
   "cell_type": "markdown",
   "id": "0aae9888",
   "metadata": {},
   "source": [
    "### Часть 1: Материалы\n",
    "1. Загрузить структуру материала по его названию (\"MnFe2O4\").  \n",
    "2. Проанализировать состав и элементы материала.  \n",
    "3. Вычислить параметры решётки и плотность."
   ]
  },
  {
   "cell_type": "code",
   "execution_count": 4,
   "id": "1d5609f3",
   "metadata": {},
   "outputs": [
    {
     "name": "stderr",
     "output_type": "stream",
     "text": [
      "Retrieving SummaryDoc documents: 100%|██████████| 6/6 [00:00<?, ?it/s]"
     ]
    },
    {
     "name": "stdout",
     "output_type": "stream",
     "text": [
      "Full Formula (Mn10 Fe20 O40)\n",
      "Reduced Formula: Mn(FeO2)2\n",
      "abc   :   6.150494   6.100717  30.396005\n",
      "angles:  60.279723  59.998079  59.837294\n",
      "pbc   :       True       True       True\n",
      "Sites (70)\n",
      "  #  SP           a         b         c    magmom\n",
      "---  ----  --------  --------  --------  --------\n",
      "  0  Mn    0.125585  0.12847   0.02481      4.639\n",
      "  1  Mn    0.002381  0.500143  0.099514     3.989\n",
      "  2  Mn    0.128669  0.127284  0.224312     4.634\n",
      "  3  Mn    0.128352  0.122436  0.425415     4.631\n",
      "  4  Mn    0.000682  0.497553  0.50056      4.116\n",
      "  5  Mn    0.12062   0.124349  0.627158     4.63\n",
      "  6  Mn    0.002588  0.501439  0.299683     4.492\n",
      "  7  Mn    0.122237  0.127152  0.825253     4.642\n",
      "  8  Mn    0.998346  0.502359  0.700177     4.095\n",
      "  9  Mn    0.878815  0.874438  0.9738       4.649\n",
      " 10  Fe    0.502299  0.001466  0.099341     4.369\n",
      " 11  Fe    0.500029  0.503541  0.999434     4.38\n",
      " 12  Fe    0.500882  0.499626  0.099371     4.367\n",
      " 13  Fe    0.497122  0.005267  0.299203     4.371\n",
      " 14  Fe    0.501837  0.498678  0.199326     4.368\n",
      " 15  Fe    0.498962  0.500552  0.298789     4.37\n",
      " 16  Fe    0.877569  0.875318  0.175025     3.803\n",
      " 17  Fe    0.498899  0.001195  0.500524     4.37\n",
      " 18  Fe    0.49735   0.49689   0.401208     4.378\n",
      " 19  Fe    0.499029  0.495707  0.50069      4.369\n",
      " 20  Fe    0.869269  0.876801  0.374784     4.354\n",
      " 21  Fe    0.499789  0.502585  0.600433     4.369\n",
      " 22  Fe    0.497639  0.501215  0.69999      4.366\n",
      " 23  Fe    0.875273  0.872543  0.575482     3.798\n",
      " 24  Fe    0.500283  0.497084  0.800101     4.366\n",
      " 25  Fe    0.497277  0.001283  0.700337     4.369\n",
      " 26  Fe    0.500532  0.499565  0.900134     4.381\n",
      " 27  Fe    0.867712  0.878192  0.775951     3.801\n",
      " 28  Fe    0.499613  0.999521  0.900443     4.369\n",
      " 29  Fe    0.998937  0.50057   0.899937     4.366\n",
      " 30  O     0.26187   0.274764  0.051888     0.137\n",
      " 31  O     0.261241  0.26658   0.141381     0.155\n",
      " 32  O     0.284367  0.71653   0.048981     0.256\n",
      " 33  O     0.709425  0.26392   0.050694     0.275\n",
      " 34  O     0.272175  0.257958  0.251759     0.209\n",
      " 35  O     0.28493   0.741584  0.147492     0.273\n",
      " 36  O     0.739976  0.733968  0.057842     0.16\n",
      " 37  O     0.270882  0.258719  0.342899     0.19\n",
      " 38  O     0.283726  0.716213  0.250103     0.247\n",
      " 39  O     0.721357  0.278181  0.149442     0.254\n",
      " 40  O     0.713438  0.256911  0.252762     0.288\n",
      " 41  O     0.748386  0.730309  0.146208     0.145\n",
      " 42  O     0.260007  0.266007  0.453507     0.146\n",
      " 43  O     0.26514   0.744143  0.349978     0.296\n",
      " 44  O     0.724502  0.739574  0.258759     0.206\n",
      " 45  O     0.722862  0.264749  0.351439     0.289\n",
      " 46  O     0.282337  0.25085   0.54403      0.27\n",
      " 47  O     0.262466  0.707389  0.453224     0.167\n",
      " 48  O     0.711945  0.261725  0.451769     0.284\n",
      " 49  O     0.729823  0.74604   0.350793     0.256\n",
      " 50  O     0.288076  0.740968  0.546758     0.276\n",
      " 51  O     0.259182  0.268648  0.65304      0.133\n",
      " 52  O     0.727483  0.754564  0.451771     0.303\n",
      " 53  O     0.737587  0.289327  0.546891     0.166\n",
      " 54  O     0.280288  0.71773   0.650489     0.247\n",
      " 55  O     0.261869  0.262689  0.742642     0.169\n",
      " 56  O     0.713162  0.258923  0.652286     0.273\n",
      " 57  O     0.743941  0.737049  0.54581      0.149\n",
      " 58  O     0.284737  0.739706  0.748406     0.282\n",
      " 59  O     0.263827  0.26019   0.853281     0.272\n",
      " 60  O     0.72327   0.278277  0.749156     0.246\n",
      " 61  O     0.73648   0.741398  0.656751     0.17\n",
      " 62  O     0.267773  0.26854   0.941795     0.277\n",
      " 63  O     0.266836  0.707032  0.854204     0.269\n",
      " 64  O     0.708308  0.263215  0.853704     0.271\n",
      " 65  O     0.741548  0.732124  0.747569     0.143\n",
      " 66  O     0.295744  0.732677  0.94723      0.271\n",
      " 67  O     0.728108  0.29509   0.947254     0.265\n",
      " 68  O     0.738963  0.728505  0.856955     0.272\n",
      " 69  O     0.733389  0.734011  0.947871     0.27\n"
     ]
    },
    {
     "name": "stderr",
     "output_type": "stream",
     "text": [
      "\n"
     ]
    }
   ],
   "source": [
    "dotenv.load_dotenv()\n",
    "\n",
    "API_KEY = os.getenv(\"API_KEY\")\n",
    "client = MPRester(API_KEY)\n",
    "raw = client.materials.summary.search(formula=\"MnFe2O4\")\n",
    "structure: Structure = raw[0].structure\n",
    "print(structure)"
   ]
  },
  {
   "cell_type": "code",
   "execution_count": 5,
   "id": "48256622",
   "metadata": {},
   "outputs": [
    {
     "name": "stdout",
     "output_type": "stream",
     "text": [
      "Состав: {'Mn': 0.14285714285714285, 'Fe': 0.2857142857142857, 'O': 0.5714285714285714}\n"
     ]
    }
   ],
   "source": [
    "composition = structure.composition\n",
    "formula = composition.fractional_composition\n",
    "print(f\"Состав: {formula.as_reduced_dict()}\")"
   ]
  },
  {
   "cell_type": "code",
   "execution_count": 6,
   "id": "e85332f7",
   "metadata": {},
   "outputs": [
    {
     "name": "stdout",
     "output_type": "stream",
     "text": [
      "Параметры решетки: {'a': 6.150493600289411, 'b': 6.100716953321962, 'c': 30.396005395963694, 'alpha': 60.279723329094324, 'beta': 59.99807904718926, 'gamma': 59.83729374457539}\n"
     ]
    }
   ],
   "source": [
    "print(f\"Параметры решетки: {structure.lattice.params_dict}\")"
   ]
  },
  {
   "cell_type": "code",
   "execution_count": 7,
   "id": "552613ab",
   "metadata": {},
   "outputs": [
    {
     "name": "stdout",
     "output_type": "stream",
     "text": [
      "Плотность структуры: 4.744605346781863 g cm^-3\n"
     ]
    }
   ],
   "source": [
    "print(f\"Плотность структуры: {structure.density}\")"
   ]
  },
  {
   "cell_type": "markdown",
   "id": "b2c042bb",
   "metadata": {},
   "source": [
    "### Часть 2: Последовательности ДНК/РНК\n",
    "1. Создать или выбрать последовательности по названиям генов или произвольные последовательности.  \n",
    "2. Вычислить GC-состав каждой последовательности.  \n",
    "3. Получить обратную комплементарную последовательность и транскрибировать в РНК. "
   ]
  },
  {
   "cell_type": "code",
   "execution_count": 8,
   "id": "ca228b07",
   "metadata": {},
   "outputs": [],
   "source": [
    "from Bio.Seq import Seq"
   ]
  },
  {
   "cell_type": "code",
   "execution_count": 9,
   "id": "9d5d140f",
   "metadata": {},
   "outputs": [],
   "source": [
    "sequences = {\n",
    "    \"1st\": \"ATGCGTACGTTAGC\",\n",
    "    \"2d\": \"GGATCGAATTCGGA\",\n",
    "    \"3d\": \"ATATGGCCGTAACG\",\n",
    "}\n",
    "\n",
    "def gc_content(seq):\n",
    "    gc_count = seq.count(\"G\") + seq.count(\"C\")\n",
    "    return (gc_count / len(seq)) * 100"
   ]
  },
  {
   "cell_type": "code",
   "execution_count": null,
   "id": "4c8cd388",
   "metadata": {},
   "outputs": [
    {
     "name": "stdout",
     "output_type": "stream",
     "text": [
      "Последовательность: 1st\n",
      "ДНК: ATGCGTACGTTAGC\n",
      "GC-состав: 50.00%\n",
      "Обратная комплементарная: GCTAACGTACGCAT\n",
      "РНК: AUGCGUACGUUAGC\n",
      "----------------------------------------\n",
      "Последовательность: 2d\n",
      "ДНК: GGATCGAATTCGGA\n",
      "GC-состав: 50.00%\n",
      "Обратная комплементарная: TCCGAATTCGATCC\n",
      "РНК: GGAUCGAAUUCGGA\n",
      "----------------------------------------\n",
      "Последовательность: 3d\n",
      "ДНК: ATATGGCCGTAACG\n",
      "GC-состав: 50.00%\n",
      "Обратная комплементарная: CGTTACGGCCATAT\n",
      "РНК: AUAUGGCCGUAACG\n",
      "----------------------------------------\n"
     ]
    }
   ],
   "source": [
    "for name, seq_str in sequences.items():\n",
    "    seq = Seq(seq_str)\n",
    "    \n",
    "    gc = gc_content(seq)\n",
    "    \n",
    "    rev_comp = seq.reverse_complement()\n",
    "    \n",
    "    rna = seq.transcribe()\n",
    "    \n",
    "    print(f\"Последовательность: {name}\")\n",
    "    print(f\"ДНК: {seq}\")\n",
    "    print(f\"GC-состав: {gc:.2f}%\")\n",
    "    print(f\"Обратная комплементарная: {rev_comp}\")\n",
    "    print(f\"РНК: {rna}\")\n",
    "    print(\"-\"*40)"
   ]
  },
  {
   "cell_type": "markdown",
   "id": "c5ad0090",
   "metadata": {},
   "source": [
    "### Часть 3: Белки\n",
    "1. Выбрать белок альфа Амилаза по названию или UniProt ID и получить его последовательность аминокислот.  \n",
    "2. Вычислить физико-химические дескрипторы белка (состав аминокислот, частоты дипептидов). "
   ]
  },
  {
   "cell_type": "code",
   "execution_count": null,
   "id": "7f7c9e44",
   "metadata": {},
   "outputs": [
    {
     "name": "stdout",
     "output_type": "stream",
     "text": [
      "Последовательность белка (P00688):\n",
      "MKFVLLLSLIGFCWAQYDPHTSDGRTAIVHLFEWRWVDIAKECERYLAPKGFGGVQVSPPNENVVVHNPSRPWWERYQPISYKICTRSGNEDEFRDMVTRCNNVGVRIYVDAVINHMCGAGNPAGTSSTCGSYLNPNNREFPAVPYSAWDFNDNKCNGEIDNYNDAYQVRNCRLTGLLDLALEKDYVRTKVADYMNHLIDIGVAGFRLDAAKHMWPGDIKAVLDKLHNLNTKWFSQGSRPFIFQEVIDLGGEAIKGSEYFGNGRVTEFKYGAKLGTVIRKWNGEKMSYLKNWGEGWGLVPSDRALVFVDNHDNQRGHGAGGSSILTFWDARMYKMAVGFMLAHPYGFTRVMSSYRWNRNFQNGKDQNDWIGPPNNNGVTKEVTINADTTCGNDWVCEHRWRQIRNMVAFRNVVNGQPFSNWWDNNSNQVAFSRGNRGFIVFNNDDWALSATLQTGLPAGTYCDVISGDKVDGNCTGLRVNVGSDGKAHFSISNSAEDPFIAIHADSKL\n",
      "\n"
     ]
    }
   ],
   "source": [
    "import requests\n",
    "from Bio.SeqUtils.ProtParam import ProteinAnalysis\n",
    "\n",
    "# Human salivary alpha-amylase\n",
    "uniprot_id = \"P00688\"\n",
    "\n",
    "url = f\"https://www.uniprot.org/uniprot/{uniprot_id}.fasta\"\n",
    "response = requests.get(url)\n",
    "\n",
    "if response.status_code == 200:\n",
    "    fasta_data = response.text\n",
    "    sequence = \"\".join(fasta_data.split(\"\\n\")[1:])\n",
    "    print(f\"Последовательность белка ({uniprot_id}):\\n{sequence}\\n\")\n",
    "else:\n",
    "    print(\"Ошибка при получении последовательности\")"
   ]
  },
  {
   "cell_type": "code",
   "execution_count": null,
   "id": "74512245",
   "metadata": {},
   "outputs": [
    {
     "name": "stdout",
     "output_type": "stream",
     "text": [
      "Состав аминокислот (%):\n",
      "A: 6.50%\n",
      "C: 2.36%\n",
      "D: 6.89%\n",
      "E: 3.74%\n",
      "F: 4.92%\n",
      "G: 9.45%\n",
      "H: 2.56%\n",
      "I: 4.72%\n",
      "K: 4.53%\n",
      "L: 5.71%\n",
      "M: 2.17%\n",
      "N: 9.25%\n",
      "P: 3.94%\n",
      "Q: 2.56%\n",
      "R: 5.91%\n",
      "S: 5.71%\n",
      "T: 4.13%\n",
      "V: 7.68%\n",
      "W: 3.74%\n",
      "Y: 3.54%\n",
      "\n",
      "Пример частот дипептидов (первые 10):\n",
      "AA: 0.0020\n",
      "AC: 0.0000\n",
      "AD: 0.0059\n",
      "AE: 0.0020\n",
      "AF: 0.0039\n",
      "AG: 0.0099\n",
      "AH: 0.0039\n",
      "AI: 0.0059\n",
      "AK: 0.0059\n",
      "AL: 0.0059\n"
     ]
    },
    {
     "name": "stderr",
     "output_type": "stream",
     "text": [
      "c:\\Users\\artem\\Some stuff\\biolab\\practice-2-Tendo1904\\.venv\\lib\\site-packages\\Bio\\SeqUtils\\ProtParam.py:106: BiopythonDeprecationWarning: The get_amino_acids_percent method has been deprecated and will likely be removed from Biopython in the near future. Please use the amino_acids_percent attribute instead.\n",
      "  warnings.warn(\n"
     ]
    }
   ],
   "source": [
    "protein = ProteinAnalysis(sequence)\n",
    "\n",
    "aa_composition = protein.get_amino_acids_percent()\n",
    "print(\"Состав аминокислот (%):\")\n",
    "for aa, perc in aa_composition.items():\n",
    "    print(f\"{aa}: {perc:.2%}\")\n",
    "\n",
    "dipeptides = protein.get_amino_acids_percent()\n",
    "from itertools import product\n",
    "\n",
    "aa_letters = 'ACDEFGHIKLMNPQRSTVWY'\n",
    "seq_len = len(sequence)\n",
    "dipeptide_counts = {}\n",
    "for a1, a2 in product(aa_letters, repeat=2):\n",
    "    dipeptide = a1 + a2\n",
    "    count = sequence.count(dipeptide)\n",
    "    dipeptide_counts[dipeptide] = count / (seq_len - 1)  # нормируем на количество возможных дипептидов\n",
    "\n",
    "print(\"\\nПример частот дипептидов (первые 10):\")\n",
    "for dp, freq in list(dipeptide_counts.items())[:10]:\n",
    "    print(f\"{dp}: {freq:.4f}\")"
   ]
  }
 ],
 "metadata": {
  "kernelspec": {
   "display_name": "biotech-labs-py3.10",
   "language": "python",
   "name": "python3"
  },
  "language_info": {
   "codemirror_mode": {
    "name": "ipython",
    "version": 3
   },
   "file_extension": ".py",
   "mimetype": "text/x-python",
   "name": "python",
   "nbconvert_exporter": "python",
   "pygments_lexer": "ipython3",
   "version": "3.10.11"
  }
 },
 "nbformat": 4,
 "nbformat_minor": 5
}
